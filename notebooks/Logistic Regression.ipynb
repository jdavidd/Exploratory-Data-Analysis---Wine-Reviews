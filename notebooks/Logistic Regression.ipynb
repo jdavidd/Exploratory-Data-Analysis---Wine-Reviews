{
 "cells": [
  {
   "cell_type": "markdown",
   "metadata": {},
   "source": [
    "# LOGISTIC REGRESSION (BLIND TASTING - PREDICT VARIETY)\n",
    "\n",
    "### 1. Import Libraries"
   ]
  },
  {
   "cell_type": "code",
   "execution_count": 1,
   "metadata": {},
   "outputs": [],
   "source": [
    "import re\n",
    "\n",
    "import numpy as np\n",
    "import pandas as pd\n",
    "pd.options.mode.chained_assignment = None \n",
    "\n",
    "import seaborn as sns\n",
    "import matplotlib.pyplot as plt\n",
    "\n",
    "import statsmodels.api as sm\n",
    "\n",
    "from scipy.sparse import hstack\n",
    "from scipy.stats import pearsonr\n",
    "\n",
    "from nltk.corpus import stopwords\n",
    "from nltk.stem.porter import PorterStemmer\n",
    "\n",
    "from sklearn.svm import LinearSVC\n",
    "from sklearn import metrics, svm\n",
    "from sklearn.linear_model import LogisticRegression\n",
    "from sklearn import preprocessing\n",
    "from sklearn import utils\n",
    "from sklearn.svm import SVR\n",
    "from sklearn.metrics import accuracy_score\n",
    "from sklearn.metrics import confusion_matrix\n",
    "from sklearn.linear_model import LogisticRegression\n",
    "from sklearn.model_selection import train_test_split\n",
    "from sklearn.feature_extraction.text import CountVectorizer \n",
    "from sklearn.feature_extraction.text import TfidfVectorizer"
   ]
  },
  {
   "cell_type": "markdown",
   "metadata": {},
   "source": [
    "### 2. Load Data and Preprocess It"
   ]
  },
  {
   "cell_type": "code",
   "execution_count": 2,
   "metadata": {},
   "outputs": [],
   "source": [
    "\n",
    "# df = pd.read_csv(\"../data/winemag-data-130k-v2.csv\", nrows=50000,index_col=0)\n",
    "df = pd.read_csv(\"../data/winemag-data_first150k.csv\", nrows=50000, index_col=0)"
   ]
  },
  {
   "cell_type": "code",
   "execution_count": 3,
   "metadata": {},
   "outputs": [],
   "source": [
    "# Drop columns\n",
    "df = df.drop(['designation', 'province', 'region_1', 'region_2', 'winery'], axis = 1)\n",
    "\n",
    "# Test and remove duplicates\n",
    "df[df.duplicated('description',keep=False)].head()\n",
    "df = df.drop_duplicates('description')"
   ]
  },
  {
   "cell_type": "code",
   "execution_count": 4,
   "metadata": {},
   "outputs": [
    {
     "data": {
      "text/plain": [
       "country           2\n",
       "description       0\n",
       "points            0\n",
       "price          4102\n",
       "variety           0\n",
       "dtype: int64"
      ]
     },
     "execution_count": 4,
     "metadata": {},
     "output_type": "execute_result"
    }
   ],
   "source": [
    "# Test for null values\n",
    "df.apply(lambda x: sum(x.isnull()),axis=0)"
   ]
  },
  {
   "cell_type": "code",
   "execution_count": 5,
   "metadata": {},
   "outputs": [
    {
     "data": {
      "text/plain": [
       "country        2\n",
       "description    0\n",
       "points         0\n",
       "price          0\n",
       "variety        0\n",
       "dtype: int64"
      ]
     },
     "execution_count": 5,
     "metadata": {},
     "output_type": "execute_result"
    }
   ],
   "source": [
    "# Fill null prices with mean value\n",
    "df['price'].fillna(df['price'].mean(), inplace=True)\n",
    "df.apply(lambda x: sum(x.isnull()),axis=0) "
   ]
  },
  {
   "cell_type": "code",
   "execution_count": 6,
   "metadata": {},
   "outputs": [
    {
     "data": {
      "text/plain": [
       "country        0\n",
       "description    0\n",
       "points         0\n",
       "price          0\n",
       "variety        0\n",
       "dtype: int64"
      ]
     },
     "execution_count": 6,
     "metadata": {},
     "output_type": "execute_result"
    }
   ],
   "source": [
    "# Drop those 2 rows without country value filled in\n",
    "df.dropna(axis='rows',inplace=True)\n",
    "df.apply(lambda x: sum(x.isnull()),axis=0) "
   ]
  },
  {
   "cell_type": "code",
   "execution_count": 7,
   "metadata": {},
   "outputs": [],
   "source": [
    "# Preprocess \n",
    "#   - Lower each word\n",
    "#   - Strip and split\n",
    "#   - Remove stopwords\n",
    "#   - Stem step (bring each word to it's base form)\n",
    "#   - Join again\n",
    "\n",
    "stopword_list = stopwords.words('english')\n",
    "ps = PorterStemmer()\n",
    "for i in range(0,len(df['description'])):\n",
    "    try:\n",
    "        description = re.sub('[^a-zA-Z]',' ',df['description'][i])\n",
    "        description = description.lower().strip()\n",
    "        description_words = description.split()\n",
    "        description_words = [word for word in description_words if not word in stopword_list]\n",
    "        description_words = [ps.stem(word) for word in description_words]\n",
    "        df['description'][i] = ' '.join(description_words)\n",
    "    except:\n",
    "        pass"
   ]
  },
  {
   "cell_type": "code",
   "execution_count": 8,
   "metadata": {},
   "outputs": [],
   "source": [
    "# Drop wine types with less than 200 observations\n",
    "\n",
    "df = df.groupby('variety').filter(lambda x: len(x) >100)\n",
    "df = df.groupby('variety').filter(lambda x: len(x) >200)"
   ]
  },
  {
   "cell_type": "markdown",
   "metadata": {},
   "source": [
    "### 3. Prepare Training and Test Sets"
   ]
  },
  {
   "cell_type": "code",
   "execution_count": 9,
   "metadata": {},
   "outputs": [
    {
     "name": "stdout",
     "output_type": "stream",
     "text": [
      "(28404, 2) (9469, 2) (28404,) (9469,)\n"
     ]
    }
   ],
   "source": [
    "# X = Input data\n",
    "# y = Output data (labels)\n",
    "X = df.drop(['country','points', 'variety'], axis = 1)\n",
    "y = df.variety\n",
    "\n",
    "# Split X and y into training and test sets\n",
    "X_train, X_test, y_train, y_test = train_test_split(X, y, random_state=1)\n",
    "print(X_train.shape, X_test.shape, y_train.shape, y_test.shape)"
   ]
  },
  {
   "cell_type": "code",
   "execution_count": 12,
   "metadata": {},
   "outputs": [],
   "source": [
    "# Get varieties as unique values, sorted\n",
    "\n",
    "output = set()\n",
    "for x in df.variety:\n",
    "    x = x.lower()\n",
    "    x = x.split()\n",
    "    for y in x:\n",
    "        output.add(y)\n",
    "\n",
    "variety_list = sorted(output)\n",
    "variety_list\n",
    "\n",
    "# Remove extra characters and stopwords\n",
    "extras = ['',' ',\"\",\" \",'.', ',', '\"', \"'\", '?', '!', ':', ';', '(', ')', '[', ']', '{', '}', 'cab',\"%\"]\n",
    "from nltk.corpus import stopwords\n",
    "stop = set(stopwords.words('english'))\n",
    "stop.update(variety_list)\n",
    "stop.update(extras)"
   ]
  },
  {
   "cell_type": "code",
   "execution_count": 13,
   "metadata": {},
   "outputs": [
    {
     "name": "stderr",
     "output_type": "stream",
     "text": [
      "C:\\Users\\Stefan\\Anaconda3\\envs\\py36\\lib\\site-packages\\sklearn\\feature_extraction\\text.py:300: UserWarning: Your stop_words may be inconsistent with your preprocessing. Tokenizing the stop words generated tokens ['avola', 'bordeaux', 'corvina', 'rhône', 'rondinella', 'style'] not in stop_words.\n",
      "  'stop_words.' % sorted(inconsistent))\n"
     ]
    }
   ],
   "source": [
    "# Vectorize input and output data\n",
    "\n",
    "vect = CountVectorizer(stop_words = stop)\n",
    "X_train_dtm = vect.fit_transform(X_train.description)\n",
    "price = X_train.price.values[:,None]\n",
    "X_train_dtm = hstack((X_train_dtm, price))\n",
    "\n",
    "X_test_dtm = vect.transform(X_test.description)\n",
    "price_test = X_test.price.values[:,None]\n",
    "X_test_dtm = hstack((X_test_dtm, price_test))"
   ]
  },
  {
   "cell_type": "code",
   "execution_count": 14,
   "metadata": {},
   "outputs": [
    {
     "name": "stderr",
     "output_type": "stream",
     "text": [
      "C:\\Users\\Stefan\\Anaconda3\\envs\\py36\\lib\\site-packages\\sklearn\\linear_model\\logistic.py:432: FutureWarning: Default solver will be changed to 'lbfgs' in 0.22. Specify a solver to silence this warning.\n",
      "  FutureWarning)\n"
     ]
    },
    {
     "name": "stdout",
     "output_type": "stream",
     "text": [
      "Wall time: 27.8 s\n"
     ]
    }
   ],
   "source": [
    "%%time\n",
    "\n",
    "# Let's use Logistic Regression and extract the model\n",
    "models = {}\n",
    "for z in wine:\n",
    "    model = LogisticRegression()\n",
    "    y = y_train == z\n",
    "    model.fit(X_train_dtm, y)\n",
    "    models[z] = model\n",
    "\n",
    "testing_probs = pd.DataFrame(columns = wine)"
   ]
  },
  {
   "cell_type": "code",
   "execution_count": 15,
   "metadata": {},
   "outputs": [
    {
     "name": "stdout",
     "output_type": "stream",
     "text": [
      "Accuracy Score: 58.93969796176999 %\n"
     ]
    },
    {
     "data": {
      "text/html": [
       "<div>\n",
       "<style scoped>\n",
       "    .dataframe tbody tr th:only-of-type {\n",
       "        vertical-align: middle;\n",
       "    }\n",
       "\n",
       "    .dataframe tbody tr th {\n",
       "        vertical-align: top;\n",
       "    }\n",
       "\n",
       "    .dataframe thead th {\n",
       "        text-align: right;\n",
       "    }\n",
       "</style>\n",
       "<table border=\"1\" class=\"dataframe\">\n",
       "  <thead>\n",
       "    <tr style=\"text-align: right;\">\n",
       "      <th></th>\n",
       "      <th>actual</th>\n",
       "      <th>predicted</th>\n",
       "    </tr>\n",
       "  </thead>\n",
       "  <tbody>\n",
       "    <tr>\n",
       "      <th>0</th>\n",
       "      <td>Riesling</td>\n",
       "      <td>Riesling</td>\n",
       "    </tr>\n",
       "    <tr>\n",
       "      <th>1</th>\n",
       "      <td>White Blend</td>\n",
       "      <td>White Blend</td>\n",
       "    </tr>\n",
       "    <tr>\n",
       "      <th>2</th>\n",
       "      <td>Pinot Noir</td>\n",
       "      <td>Pinot Noir</td>\n",
       "    </tr>\n",
       "    <tr>\n",
       "      <th>3</th>\n",
       "      <td>Pinot Noir</td>\n",
       "      <td>Pinot Noir</td>\n",
       "    </tr>\n",
       "    <tr>\n",
       "      <th>4</th>\n",
       "      <td>Riesling</td>\n",
       "      <td>Riesling</td>\n",
       "    </tr>\n",
       "    <tr>\n",
       "      <th>...</th>\n",
       "      <td>...</td>\n",
       "      <td>...</td>\n",
       "    </tr>\n",
       "    <tr>\n",
       "      <th>9464</th>\n",
       "      <td>Syrah</td>\n",
       "      <td>Bordeaux-style Red Blend</td>\n",
       "    </tr>\n",
       "    <tr>\n",
       "      <th>9465</th>\n",
       "      <td>Merlot</td>\n",
       "      <td>Bordeaux-style Red Blend</td>\n",
       "    </tr>\n",
       "    <tr>\n",
       "      <th>9466</th>\n",
       "      <td>Riesling</td>\n",
       "      <td>Riesling</td>\n",
       "    </tr>\n",
       "    <tr>\n",
       "      <th>9467</th>\n",
       "      <td>Zinfandel</td>\n",
       "      <td>Cabernet Sauvignon</td>\n",
       "    </tr>\n",
       "    <tr>\n",
       "      <th>9468</th>\n",
       "      <td>Rosé</td>\n",
       "      <td>Pinot Noir</td>\n",
       "    </tr>\n",
       "  </tbody>\n",
       "</table>\n",
       "<p>9469 rows × 2 columns</p>\n",
       "</div>"
      ],
      "text/plain": [
       "           actual                 predicted\n",
       "0        Riesling                  Riesling\n",
       "1     White Blend               White Blend\n",
       "2      Pinot Noir                Pinot Noir\n",
       "3      Pinot Noir                Pinot Noir\n",
       "4        Riesling                  Riesling\n",
       "...           ...                       ...\n",
       "9464        Syrah  Bordeaux-style Red Blend\n",
       "9465       Merlot  Bordeaux-style Red Blend\n",
       "9466     Riesling                  Riesling\n",
       "9467    Zinfandel        Cabernet Sauvignon\n",
       "9468         Rosé                Pinot Noir\n",
       "\n",
       "[9469 rows x 2 columns]"
      ]
     },
     "execution_count": 15,
     "metadata": {},
     "output_type": "execute_result"
    }
   ],
   "source": [
    "# Predict and view accuracy\n",
    "for variety in wine:\n",
    "    testing_probs[variety] = models[variety].predict_proba(X_test_dtm)[:,1]\n",
    "\n",
    "\n",
    "predicted_wine = testing_probs.idxmax(axis=1)\n",
    "\n",
    "comparison = pd.DataFrame({'actual':y_test.values, 'predicted':predicted_wine.values})   \n",
    "  \n",
    "\n",
    "print('Accuracy Score:',accuracy_score(comparison.actual, comparison.predicted)*100,\"%\")\n",
    "\n",
    "# Display some predictions\n",
    "comparison"
   ]
  },
  {
   "cell_type": "code",
   "execution_count": null,
   "metadata": {},
   "outputs": [],
   "source": []
  }
 ],
 "metadata": {
  "kernelspec": {
   "display_name": "Python 3",
   "language": "python",
   "name": "python3"
  },
  "language_info": {
   "codemirror_mode": {
    "name": "ipython",
    "version": 3
   },
   "file_extension": ".py",
   "mimetype": "text/x-python",
   "name": "python",
   "nbconvert_exporter": "python",
   "pygments_lexer": "ipython3",
   "version": "3.6.9"
  }
 },
 "nbformat": 4,
 "nbformat_minor": 4
}
