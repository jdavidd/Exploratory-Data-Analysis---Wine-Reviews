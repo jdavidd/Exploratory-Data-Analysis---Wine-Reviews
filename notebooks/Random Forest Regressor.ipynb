{
 "cells": [
  {
   "cell_type": "markdown",
   "metadata": {},
   "source": [
    "# RANDOM FOREST REGRESSOR (BLIND TASTING - PREDICT PRICE)\n",
    "\n",
    "### 1. Import Libraries"
   ]
  },
  {
   "cell_type": "code",
   "execution_count": 1,
   "metadata": {},
   "outputs": [],
   "source": [
    "import re\n",
    "\n",
    "import numpy as np\n",
    "import pandas as pd\n",
    "pd.options.mode.chained_assignment = None \n",
    "\n",
    "import seaborn as sns\n",
    "import matplotlib.pyplot as plt\n",
    "\n",
    "import statsmodels.api as sm\n",
    "\n",
    "from scipy.sparse import hstack\n",
    "from scipy.stats import pearsonr\n",
    "\n",
    "from nltk.corpus import stopwords\n",
    "from nltk.stem.porter import PorterStemmer\n",
    "\n",
    "from sklearn.svm import LinearSVC\n",
    "from sklearn import metrics, svm\n",
    "from sklearn.linear_model import LogisticRegression\n",
    "from sklearn import preprocessing\n",
    "from sklearn import utils\n",
    "from sklearn.svm import SVR\n",
    "from sklearn.metrics import accuracy_score\n",
    "from sklearn.metrics import confusion_matrix\n",
    "from sklearn.linear_model import LogisticRegression\n",
    "from sklearn.model_selection import train_test_split\n",
    "from sklearn.feature_extraction.text import CountVectorizer \n",
    "from sklearn.feature_extraction.text import TfidfVectorizer\n",
    "from sklearn.ensemble import RandomForestClassifier, RandomForestRegressor, ExtraTreesRegressor, GradientBoostingRegressor"
   ]
  },
  {
   "cell_type": "markdown",
   "metadata": {},
   "source": [
    "### 2. Load Data and Preprocess It"
   ]
  },
  {
   "cell_type": "code",
   "execution_count": 2,
   "metadata": {},
   "outputs": [],
   "source": [
    "\n",
    "# df = pd.read_csv(\"../data/winemag-data-130k-v2.csv\", nrows=50000,index_col=0)\n",
    "df = pd.read_csv(\"../data/winemag-data_first150k.csv\", nrows=50000, index_col=0)"
   ]
  },
  {
   "cell_type": "code",
   "execution_count": 3,
   "metadata": {},
   "outputs": [],
   "source": [
    "# Drop columns\n",
    "df = df.drop(['designation', 'province', 'region_1', 'region_2', 'winery'], axis = 1)\n",
    "\n",
    "# Test and remove duplicates\n",
    "df[df.duplicated('description',keep=False)].head()\n",
    "df = df.drop_duplicates('description')"
   ]
  },
  {
   "cell_type": "code",
   "execution_count": 4,
   "metadata": {},
   "outputs": [
    {
     "data": {
      "text/plain": [
       "country           2\n",
       "description       0\n",
       "points            0\n",
       "price          4102\n",
       "variety           0\n",
       "dtype: int64"
      ]
     },
     "execution_count": 4,
     "metadata": {},
     "output_type": "execute_result"
    }
   ],
   "source": [
    "# Test for null values\n",
    "df.apply(lambda x: sum(x.isnull()),axis=0)"
   ]
  },
  {
   "cell_type": "code",
   "execution_count": 5,
   "metadata": {},
   "outputs": [
    {
     "data": {
      "text/plain": [
       "country        2\n",
       "description    0\n",
       "points         0\n",
       "price          0\n",
       "variety        0\n",
       "dtype: int64"
      ]
     },
     "execution_count": 5,
     "metadata": {},
     "output_type": "execute_result"
    }
   ],
   "source": [
    "# Fill null prices with mean value\n",
    "df['price'].fillna(df['price'].mean(), inplace=True)\n",
    "df.apply(lambda x: sum(x.isnull()),axis=0) "
   ]
  },
  {
   "cell_type": "code",
   "execution_count": 6,
   "metadata": {},
   "outputs": [
    {
     "data": {
      "text/plain": [
       "country        0\n",
       "description    0\n",
       "points         0\n",
       "price          0\n",
       "variety        0\n",
       "dtype: int64"
      ]
     },
     "execution_count": 6,
     "metadata": {},
     "output_type": "execute_result"
    }
   ],
   "source": [
    "# Drop those 2 rows without country value filled in\n",
    "df.dropna(axis='rows',inplace=True)\n",
    "df.apply(lambda x: sum(x.isnull()),axis=0) "
   ]
  },
  {
   "cell_type": "code",
   "execution_count": 7,
   "metadata": {},
   "outputs": [],
   "source": [
    "# Preprocess \n",
    "#   - Lower each word\n",
    "#   - Strip and split\n",
    "#   - Remove stopwords\n",
    "#   - Stem step (bring each word to it's base form)\n",
    "#   - Join again\n",
    "\n",
    "stopword_list = stopwords.words('english')\n",
    "ps = PorterStemmer()\n",
    "for i in range(0,len(df['description'])):\n",
    "    try:\n",
    "        description = re.sub('[^a-zA-Z]',' ',df['description'][i])\n",
    "        description = description.lower().strip()\n",
    "        description_words = description.split()\n",
    "        description_words = [word for word in description_words if not word in stopword_list]\n",
    "        description_words = [ps.stem(word) for word in description_words]\n",
    "        df['description'][i] = ' '.join(description_words)\n",
    "    except:\n",
    "        pass"
   ]
  },
  {
   "cell_type": "code",
   "execution_count": 8,
   "metadata": {},
   "outputs": [],
   "source": [
    "# Drop wine types with less than 300 observations\n",
    "\n",
    "df = df.groupby('variety').filter(lambda x: len(x) > 200)\n",
    "filtered = df.groupby('variety').filter(lambda x: len(x) >= 500)"
   ]
  },
  {
   "cell_type": "code",
   "execution_count": 9,
   "metadata": {},
   "outputs": [
    {
     "data": {
      "text/html": [
       "<div>\n",
       "<style scoped>\n",
       "    .dataframe tbody tr th:only-of-type {\n",
       "        vertical-align: middle;\n",
       "    }\n",
       "\n",
       "    .dataframe tbody tr th {\n",
       "        vertical-align: top;\n",
       "    }\n",
       "\n",
       "    .dataframe thead th {\n",
       "        text-align: right;\n",
       "    }\n",
       "</style>\n",
       "<table border=\"1\" class=\"dataframe\">\n",
       "  <thead>\n",
       "    <tr style=\"text-align: right;\">\n",
       "      <th></th>\n",
       "      <th>country</th>\n",
       "      <th>description</th>\n",
       "      <th>points</th>\n",
       "      <th>price</th>\n",
       "      <th>variety</th>\n",
       "      <th>variety_id</th>\n",
       "    </tr>\n",
       "  </thead>\n",
       "  <tbody>\n",
       "    <tr>\n",
       "      <th>0</th>\n",
       "      <td>US</td>\n",
       "      <td>tremend variet wine hail oakvil age three year...</td>\n",
       "      <td>96</td>\n",
       "      <td>235.0</td>\n",
       "      <td>Cabernet Sauvignon</td>\n",
       "      <td>0</td>\n",
       "    </tr>\n",
       "    <tr>\n",
       "      <th>2</th>\n",
       "      <td>US</td>\n",
       "      <td>mac watson honor memori wine made mother treme...</td>\n",
       "      <td>96</td>\n",
       "      <td>90.0</td>\n",
       "      <td>Sauvignon Blanc</td>\n",
       "      <td>1</td>\n",
       "    </tr>\n",
       "    <tr>\n",
       "      <th>3</th>\n",
       "      <td>US</td>\n",
       "      <td>spent month new french oak incorpor fruit ponz...</td>\n",
       "      <td>96</td>\n",
       "      <td>65.0</td>\n",
       "      <td>Pinot Noir</td>\n",
       "      <td>2</td>\n",
       "    </tr>\n",
       "    <tr>\n",
       "      <th>8</th>\n",
       "      <td>US</td>\n",
       "      <td>name vineyard formerli bottl delancellotti fin...</td>\n",
       "      <td>95</td>\n",
       "      <td>65.0</td>\n",
       "      <td>Pinot Noir</td>\n",
       "      <td>2</td>\n",
       "    </tr>\n",
       "    <tr>\n",
       "      <th>9</th>\n",
       "      <td>US</td>\n",
       "      <td>produc sourc two block vineyard wine one high ...</td>\n",
       "      <td>95</td>\n",
       "      <td>60.0</td>\n",
       "      <td>Pinot Noir</td>\n",
       "      <td>2</td>\n",
       "    </tr>\n",
       "  </tbody>\n",
       "</table>\n",
       "</div>"
      ],
      "text/plain": [
       "  country                                        description  points  price  \\\n",
       "0      US  tremend variet wine hail oakvil age three year...      96  235.0   \n",
       "2      US  mac watson honor memori wine made mother treme...      96   90.0   \n",
       "3      US  spent month new french oak incorpor fruit ponz...      96   65.0   \n",
       "8      US  name vineyard formerli bottl delancellotti fin...      95   65.0   \n",
       "9      US  produc sourc two block vineyard wine one high ...      95   60.0   \n",
       "\n",
       "              variety  variety_id  \n",
       "0  Cabernet Sauvignon           0  \n",
       "2     Sauvignon Blanc           1  \n",
       "3          Pinot Noir           2  \n",
       "8          Pinot Noir           2  \n",
       "9          Pinot Noir           2  "
      ]
     },
     "execution_count": 9,
     "metadata": {},
     "output_type": "execute_result"
    }
   ],
   "source": [
    "# Encode varieties as integers\n",
    "\n",
    "filtered['variety_id'] = filtered['variety'].factorize()[0]\n",
    "category_id_df = filtered[['variety', 'variety_id']].drop_duplicates().sort_values('variety_id')\n",
    "category_to_id = dict(category_id_df.values)\n",
    "id_to_category = dict(category_id_df[['variety_id', 'variety']].values)\n",
    "\n",
    "filtered.head()"
   ]
  },
  {
   "cell_type": "markdown",
   "metadata": {},
   "source": [
    "### 3. Random Forest Regressor for Price Prediction"
   ]
  },
  {
   "cell_type": "code",
   "execution_count": 10,
   "metadata": {},
   "outputs": [
    {
     "name": "stdout",
     "output_type": "stream",
     "text": [
      "(28404, 3) (9469, 3) (28404,) (9469,)\n"
     ]
    },
    {
     "name": "stderr",
     "output_type": "stream",
     "text": [
      "C:\\Users\\Stefan\\Anaconda3\\envs\\py36\\lib\\site-packages\\ipykernel_launcher.py:9: FutureWarning: Method .as_matrix will be removed in a future version. Use .values instead.\n",
      "  if __name__ == '__main__':\n",
      "C:\\Users\\Stefan\\Anaconda3\\envs\\py36\\lib\\site-packages\\ipykernel_launcher.py:10: FutureWarning: Method .as_matrix will be removed in a future version. Use .values instead.\n",
      "  # Remove the CWD from sys.path while we load stuff.\n"
     ]
    }
   ],
   "source": [
    "df = df.reset_index()\n",
    "\n",
    "X = df.drop(['country','description','variety'], axis = 1)\n",
    "y = df.price\n",
    "\n",
    "X_train, X_test, y_train, y_test = train_test_split(X, y, random_state=1)\n",
    "print(X_train.shape, X_test.shape, y_train.shape, y_test.shape)\n",
    "\n",
    "X = X.as_matrix().astype(np.float)\n",
    "y = y.as_matrix().astype(np.float)"
   ]
  },
  {
   "cell_type": "code",
   "execution_count": 11,
   "metadata": {},
   "outputs": [
    {
     "name": "stdout",
     "output_type": "stream",
     "text": [
      "Accuracy Score: 99.75016579906396 %\n"
     ]
    }
   ],
   "source": [
    "\n",
    "clf = RandomForestRegressor(n_estimators=10)\n",
    "clf.fit(X_train, y_train)\n",
    "y_pred = clf.predict(X_test)\n",
    "print('Accuracy Score:', clf.score(X_test, y_test) *100, \"%\")"
   ]
  }
 ],
 "metadata": {
  "kernelspec": {
   "display_name": "Python 3",
   "language": "python",
   "name": "python3"
  },
  "language_info": {
   "codemirror_mode": {
    "name": "ipython",
    "version": 3
   },
   "file_extension": ".py",
   "mimetype": "text/x-python",
   "name": "python",
   "nbconvert_exporter": "python",
   "pygments_lexer": "ipython3",
   "version": "3.6.9"
  }
 },
 "nbformat": 4,
 "nbformat_minor": 4
}
